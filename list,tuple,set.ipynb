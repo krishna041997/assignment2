{
 "cells": [
  {
   "cell_type": "code",
   "execution_count": 8,
   "id": "5a86293f-89f7-4442-a111-c2f7cd6fdd49",
   "metadata": {},
   "outputs": [],
   "source": [
    "l=[1,2,\"krishna\", True,4+5j,4.5666]"
   ]
  },
  {
   "cell_type": "code",
   "execution_count": 6,
   "id": "9e6c620b-c691-4e21-a11f-f58eff80c1b6",
   "metadata": {},
   "outputs": [
    {
     "data": {
      "text/plain": [
       "list"
      ]
     },
     "execution_count": 6,
     "metadata": {},
     "output_type": "execute_result"
    }
   ],
   "source": [
    "type(l)"
   ]
  },
  {
   "cell_type": "code",
   "execution_count": 9,
   "id": "6c9d48bf-c992-49f9-897b-73665e5443ec",
   "metadata": {},
   "outputs": [
    {
     "data": {
      "text/plain": [
       "[1, 'krishna', (4+5j)]"
      ]
     },
     "execution_count": 9,
     "metadata": {},
     "output_type": "execute_result"
    }
   ],
   "source": [
    "l[::2]"
   ]
  },
  {
   "cell_type": "code",
   "execution_count": 10,
   "id": "8a319e23-b600-4c49-a93b-58a9dde48ad9",
   "metadata": {},
   "outputs": [
    {
     "data": {
      "text/plain": [
       "[1, 2, 'krishna', True, (4+5j), 4.5666]"
      ]
     },
     "execution_count": 10,
     "metadata": {},
     "output_type": "execute_result"
    }
   ],
   "source": [
    "l[::1]"
   ]
  },
  {
   "cell_type": "code",
   "execution_count": 11,
   "id": "878dbe38-f10a-4f2f-99c0-caa510d22299",
   "metadata": {},
   "outputs": [
    {
     "ename": "IndexError",
     "evalue": "list index out of range",
     "output_type": "error",
     "traceback": [
      "\u001b[0;31m---------------------------------------------------------------------------\u001b[0m",
      "\u001b[0;31mIndexError\u001b[0m                                Traceback (most recent call last)",
      "Cell \u001b[0;32mIn[11], line 1\u001b[0m\n\u001b[0;32m----> 1\u001b[0m \u001b[43ml\u001b[49m\u001b[43m[\u001b[49m\u001b[38;5;241;43m90\u001b[39;49m\u001b[43m]\u001b[49m\n",
      "\u001b[0;31mIndexError\u001b[0m: list index out of range"
     ]
    }
   ],
   "source": [
    "l[90]"
   ]
  },
  {
   "cell_type": "code",
   "execution_count": 12,
   "id": "ff9b2d36-fbe9-4eee-ba2a-d06130dbe6db",
   "metadata": {},
   "outputs": [
    {
     "data": {
      "text/plain": [
       "2"
      ]
     },
     "execution_count": 12,
     "metadata": {},
     "output_type": "execute_result"
    }
   ],
   "source": [
    "l[1]"
   ]
  },
  {
   "cell_type": "code",
   "execution_count": 13,
   "id": "d5e95d7a-ae30-4a21-8f99-e3899139e103",
   "metadata": {},
   "outputs": [
    {
     "data": {
      "text/plain": [
       "1"
      ]
     },
     "execution_count": 13,
     "metadata": {},
     "output_type": "execute_result"
    }
   ],
   "source": [
    "l[0]"
   ]
  },
  {
   "cell_type": "code",
   "execution_count": 14,
   "id": "4ddf8dc6-7044-472e-93a5-d878d06d13ed",
   "metadata": {},
   "outputs": [
    {
     "data": {
      "text/plain": [
       "'list ke ander koi bhi data easily accept kar leta hai '"
      ]
     },
     "execution_count": 14,
     "metadata": {},
     "output_type": "execute_result"
    }
   ],
   "source": [
    "\"list ke ander koi bhi data easily accept kar leta hai \"\n"
   ]
  },
  {
   "cell_type": "code",
   "execution_count": 15,
   "id": "f040d6df-874d-4d7b-8f68-d8e8a5a8d5fe",
   "metadata": {},
   "outputs": [
    {
     "data": {
      "text/plain": [
       "[1, 2, 'krishna', True, (4+5j), 4.5666]"
      ]
     },
     "execution_count": 15,
     "metadata": {},
     "output_type": "execute_result"
    }
   ],
   "source": [
    "l[::1]"
   ]
  },
  {
   "cell_type": "code",
   "execution_count": 17,
   "id": "950d1cfa-09cb-40e2-81d5-149189f1b256",
   "metadata": {},
   "outputs": [
    {
     "data": {
      "text/plain": [
       "[1]"
      ]
     },
     "execution_count": 17,
     "metadata": {},
     "output_type": "execute_result"
    }
   ],
   "source": [
    "l[:1]"
   ]
  },
  {
   "cell_type": "code",
   "execution_count": 18,
   "id": "9c6dd936-64a2-40a4-b194-31fd90021040",
   "metadata": {},
   "outputs": [
    {
     "data": {
      "text/plain": [
       "[]"
      ]
     },
     "execution_count": 18,
     "metadata": {},
     "output_type": "execute_result"
    }
   ],
   "source": [
    "l[1:1]"
   ]
  },
  {
   "cell_type": "code",
   "execution_count": 19,
   "id": "5a95610c-3fba-4606-9004-675cb1d6c913",
   "metadata": {},
   "outputs": [
    {
     "data": {
      "text/plain": [
       "4.5666"
      ]
     },
     "execution_count": 19,
     "metadata": {},
     "output_type": "execute_result"
    }
   ],
   "source": [
    "l[-1]"
   ]
  },
  {
   "cell_type": "code",
   "execution_count": 21,
   "id": "087ad259-10bb-4556-b354-bb2d5d682efc",
   "metadata": {},
   "outputs": [
    {
     "data": {
      "text/plain": [
       "[4.5666, (4+5j), True, 'krishna', 2, 1]"
      ]
     },
     "execution_count": 21,
     "metadata": {},
     "output_type": "execute_result"
    }
   ],
   "source": [
    "l[::-1]"
   ]
  },
  {
   "cell_type": "code",
   "execution_count": 23,
   "id": "17f2f5da-04cb-47b4-b5b4-0ac72cfb453d",
   "metadata": {},
   "outputs": [
    {
     "data": {
      "text/plain": [
       "[1, 'krishna', (4+5j)]"
      ]
     },
     "execution_count": 23,
     "metadata": {},
     "output_type": "execute_result"
    }
   ],
   "source": [
    "l[::2]"
   ]
  },
  {
   "cell_type": "code",
   "execution_count": 24,
   "id": "68d016fb-e692-4e9f-a4d9-6bfd9008fd8c",
   "metadata": {},
   "outputs": [],
   "source": [
    "a=\"krishna\""
   ]
  },
  {
   "cell_type": "code",
   "execution_count": 25,
   "id": "c9ec993b-269a-472a-858f-2a8f45a29ad9",
   "metadata": {},
   "outputs": [
    {
     "data": {
      "text/plain": [
       "'krishna'"
      ]
     },
     "execution_count": 25,
     "metadata": {},
     "output_type": "execute_result"
    }
   ],
   "source": [
    "a"
   ]
  },
  {
   "cell_type": "code",
   "execution_count": 26,
   "id": "c7a3fe69-ed85-4a65-90fb-796f95f7db04",
   "metadata": {},
   "outputs": [
    {
     "data": {
      "text/plain": [
       "str"
      ]
     },
     "execution_count": 26,
     "metadata": {},
     "output_type": "execute_result"
    }
   ],
   "source": [
    "type(a)"
   ]
  },
  {
   "cell_type": "code",
   "execution_count": 27,
   "id": "3cdfab15-02dd-4c43-968d-c5148ce4c580",
   "metadata": {},
   "outputs": [
    {
     "ename": "TypeError",
     "evalue": "can only concatenate str (not \"list\") to str",
     "output_type": "error",
     "traceback": [
      "\u001b[0;31m---------------------------------------------------------------------------\u001b[0m",
      "\u001b[0;31mTypeError\u001b[0m                                 Traceback (most recent call last)",
      "Cell \u001b[0;32mIn[27], line 1\u001b[0m\n\u001b[0;32m----> 1\u001b[0m \u001b[43ma\u001b[49m\u001b[38;5;241;43m+\u001b[39;49m\u001b[43ml\u001b[49m\n",
      "\u001b[0;31mTypeError\u001b[0m: can only concatenate str (not \"list\") to str"
     ]
    }
   ],
   "source": [
    "a+l"
   ]
  },
  {
   "cell_type": "code",
   "execution_count": 28,
   "id": "c12def8c-2174-4170-a3de-f2d04a0b0351",
   "metadata": {},
   "outputs": [
    {
     "data": {
      "text/plain": [
       "'list  aur srtting add nhi ho skte hai'"
      ]
     },
     "execution_count": 28,
     "metadata": {},
     "output_type": "execute_result"
    }
   ],
   "source": [
    "\"list  aur srtting add nhi ho skte hai\""
   ]
  },
  {
   "cell_type": "code",
   "execution_count": 29,
   "id": "8673c140-2d6b-4439-8d4d-049e0556c1d8",
   "metadata": {},
   "outputs": [
    {
     "data": {
      "text/plain": [
       "'strring collection od chratcer'"
      ]
     },
     "execution_count": 29,
     "metadata": {},
     "output_type": "execute_result"
    }
   ],
   "source": [
    "\"strring collection od chratcer\""
   ]
  },
  {
   "cell_type": "code",
   "execution_count": 32,
   "id": "b7818f20-f42c-43fd-9de5-936f2369e75e",
   "metadata": {},
   "outputs": [
    {
     "data": {
      "text/plain": [
       "['k', 'r', 'i', 's', 'h', 'n', 'a']"
      ]
     },
     "execution_count": 32,
     "metadata": {},
     "output_type": "execute_result"
    }
   ],
   "source": [
    "list(a)"
   ]
  },
  {
   "cell_type": "code",
   "execution_count": 38,
   "id": "59172f74-a6e4-482b-8802-36d0b555f15d",
   "metadata": {},
   "outputs": [
    {
     "data": {
      "text/plain": [
       "['k', 'r', 'i', 's', 'h', 'n', 'a']"
      ]
     },
     "execution_count": 38,
     "metadata": {},
     "output_type": "execute_result"
    }
   ],
   "source": [
    "list(a)"
   ]
  },
  {
   "cell_type": "code",
   "execution_count": 39,
   "id": "66d7dd68-48b9-423d-874a-97ec407e1069",
   "metadata": {},
   "outputs": [
    {
     "data": {
      "text/plain": [
       "['k', 'r', 'i', 's', 'h', 'n', 'a', 1, 2, 'krishna', True, (4+5j), 4.5666]"
      ]
     },
     "execution_count": 39,
     "metadata": {},
     "output_type": "execute_result"
    }
   ],
   "source": [
    "list(a)+l"
   ]
  },
  {
   "cell_type": "code",
   "execution_count": 40,
   "id": "189f2496-0a22-4203-8089-8c2fcd07d690",
   "metadata": {},
   "outputs": [
    {
     "data": {
      "text/plain": [
       "True"
      ]
     },
     "execution_count": 40,
     "metadata": {},
     "output_type": "execute_result"
    }
   ],
   "source": [
    "l[3]"
   ]
  },
  {
   "cell_type": "code",
   "execution_count": 41,
   "id": "93707e26-3135-4580-9725-703a9c3074ae",
   "metadata": {},
   "outputs": [
    {
     "data": {
      "text/plain": [
       "'krishna'"
      ]
     },
     "execution_count": 41,
     "metadata": {},
     "output_type": "execute_result"
    }
   ],
   "source": [
    "l[2]"
   ]
  },
  {
   "cell_type": "code",
   "execution_count": 42,
   "id": "81dfac56-f719-4633-aa28-7b80254e5db6",
   "metadata": {},
   "outputs": [
    {
     "data": {
      "text/plain": [
       "'s'"
      ]
     },
     "execution_count": 42,
     "metadata": {},
     "output_type": "execute_result"
    }
   ],
   "source": [
    "l[2][3]"
   ]
  },
  {
   "cell_type": "code",
   "execution_count": 44,
   "id": "c9d56c9d-4efd-47f6-bbe5-1ead51622865",
   "metadata": {},
   "outputs": [
    {
     "data": {
      "text/plain": [
       "'kr'"
      ]
     },
     "execution_count": 44,
     "metadata": {},
     "output_type": "execute_result"
    }
   ],
   "source": [
    "l[2][:2]"
   ]
  },
  {
   "cell_type": "code",
   "execution_count": 45,
   "id": "35708ee2-3394-45e1-a330-06c4695ed97c",
   "metadata": {},
   "outputs": [
    {
     "data": {
      "text/plain": [
       "True"
      ]
     },
     "execution_count": 45,
     "metadata": {},
     "output_type": "execute_result"
    }
   ],
   "source": [
    "l[3]"
   ]
  },
  {
   "cell_type": "code",
   "execution_count": 49,
   "id": "00e1b314-131b-4f5d-a480-274d51ac48d0",
   "metadata": {},
   "outputs": [
    {
     "ename": "TypeError",
     "evalue": "'bool' object is not subscriptable",
     "output_type": "error",
     "traceback": [
      "\u001b[0;31m---------------------------------------------------------------------------\u001b[0m",
      "\u001b[0;31mTypeError\u001b[0m                                 Traceback (most recent call last)",
      "Cell \u001b[0;32mIn[49], line 1\u001b[0m\n\u001b[0;32m----> 1\u001b[0m \u001b[43ml\u001b[49m\u001b[43m[\u001b[49m\u001b[38;5;241;43m3\u001b[39;49m\u001b[43m]\u001b[49m\u001b[43m[\u001b[49m\u001b[43m:\u001b[49m\u001b[43m:\u001b[49m\u001b[43m]\u001b[49m\n",
      "\u001b[0;31mTypeError\u001b[0m: 'bool' object is not subscriptable"
     ]
    }
   ],
   "source": [
    "l[3][::]"
   ]
  },
  {
   "cell_type": "code",
   "execution_count": 52,
   "id": "a71cf84c-45e7-4da1-b5f5-4e47b8e1d21d",
   "metadata": {},
   "outputs": [
    {
     "data": {
      "text/plain": [
       "'True'"
      ]
     },
     "execution_count": 52,
     "metadata": {},
     "output_type": "execute_result"
    }
   ],
   "source": [
    "str(l[3])"
   ]
  },
  {
   "cell_type": "code",
   "execution_count": 53,
   "id": "8c660069-553d-41ed-a1ab-ab9876e19def",
   "metadata": {},
   "outputs": [
    {
     "data": {
      "text/plain": [
       "\"[1, 'krishna', (4+5j)]\""
      ]
     },
     "execution_count": 53,
     "metadata": {},
     "output_type": "execute_result"
    }
   ],
   "source": [
    "str(l[::2])"
   ]
  },
  {
   "cell_type": "code",
   "execution_count": 55,
   "id": "d0cde18f-1b87-4df2-a07a-1fa0d871a742",
   "metadata": {},
   "outputs": [
    {
     "data": {
      "text/plain": [
       "'Tu'"
      ]
     },
     "execution_count": 55,
     "metadata": {},
     "output_type": "execute_result"
    }
   ],
   "source": [
    "str(l[3])[::2]"
   ]
  },
  {
   "cell_type": "code",
   "execution_count": 56,
   "id": "a909c3f9-3aee-4b88-bb6f-7d17a5639d22",
   "metadata": {},
   "outputs": [
    {
     "data": {
      "text/plain": [
       "'Te'"
      ]
     },
     "execution_count": 56,
     "metadata": {},
     "output_type": "execute_result"
    }
   ],
   "source": [
    "str(l[3])[::3]"
   ]
  },
  {
   "cell_type": "code",
   "execution_count": 60,
   "id": "bd4d3822-5c21-478b-8216-7ec446d7e0f2",
   "metadata": {},
   "outputs": [],
   "source": [
    "l1=[3,4,5]"
   ]
  },
  {
   "cell_type": "code",
   "execution_count": 61,
   "id": "aa7640f7-75c6-4301-adad-ddc77ebebcd3",
   "metadata": {},
   "outputs": [
    {
     "data": {
      "text/plain": [
       "[1, 2, 'krishna', True, (4+5j), 4.5666, 3, 4, 5]"
      ]
     },
     "execution_count": 61,
     "metadata": {},
     "output_type": "execute_result"
    }
   ],
   "source": [
    "l+l1"
   ]
  },
  {
   "cell_type": "code",
   "execution_count": 62,
   "id": "f6b1d25a-6114-4841-b1da-8dba5d6a2e7a",
   "metadata": {},
   "outputs": [
    {
     "data": {
      "text/plain": [
       "[3, 4, 5, 3, 4, 5, 3, 4, 5]"
      ]
     },
     "execution_count": 62,
     "metadata": {},
     "output_type": "execute_result"
    }
   ],
   "source": [
    "l1*3"
   ]
  },
  {
   "cell_type": "code",
   "execution_count": 63,
   "id": "bed1dfcd-97a4-44eb-a775-0c9bfaf479b0",
   "metadata": {},
   "outputs": [
    {
     "data": {
      "text/plain": [
       "3"
      ]
     },
     "execution_count": 63,
     "metadata": {},
     "output_type": "execute_result"
    }
   ],
   "source": [
    "len(l1)"
   ]
  },
  {
   "cell_type": "code",
   "execution_count": 64,
   "id": "ac3f2482-70f9-48e8-99aa-d8b9e9fbb39d",
   "metadata": {},
   "outputs": [
    {
     "data": {
      "text/plain": [
       "6"
      ]
     },
     "execution_count": 64,
     "metadata": {},
     "output_type": "execute_result"
    }
   ],
   "source": [
    "len(l)"
   ]
  },
  {
   "cell_type": "code",
   "execution_count": 65,
   "id": "b977ccae-227c-4af4-b706-bf55d88aaa93",
   "metadata": {},
   "outputs": [
    {
     "data": {
      "text/plain": [
       "[1, 2, 'krishna', True, (4+5j), 4.5666]"
      ]
     },
     "execution_count": 65,
     "metadata": {},
     "output_type": "execute_result"
    }
   ],
   "source": [
    "l"
   ]
  },
  {
   "cell_type": "code",
   "execution_count": 67,
   "id": "361d16c7-2c2c-4205-9d43-7ed0ed4e5aa5",
   "metadata": {},
   "outputs": [],
   "source": [
    "l.append(5)"
   ]
  },
  {
   "cell_type": "code",
   "execution_count": 68,
   "id": "08466467-21b4-424c-95ec-e91e5cffe6a8",
   "metadata": {},
   "outputs": [
    {
     "data": {
      "text/plain": [
       "[1, 2, 'krishna', True, (4+5j), 4.5666, 5, 5]"
      ]
     },
     "execution_count": 68,
     "metadata": {},
     "output_type": "execute_result"
    }
   ],
   "source": [
    "l"
   ]
  },
  {
   "cell_type": "code",
   "execution_count": 69,
   "id": "3f428882-10f6-4248-a058-6d95c104aad6",
   "metadata": {},
   "outputs": [
    {
     "data": {
      "text/plain": [
       "'krishna'"
      ]
     },
     "execution_count": 69,
     "metadata": {},
     "output_type": "execute_result"
    }
   ],
   "source": [
    "a"
   ]
  },
  {
   "cell_type": "code",
   "execution_count": 70,
   "id": "3b6a8aa4-fadb-4eb4-a806-a5fc860cd8fd",
   "metadata": {},
   "outputs": [],
   "source": [
    "l.append(a)"
   ]
  },
  {
   "cell_type": "code",
   "execution_count": 71,
   "id": "b62e6d43-0ecf-41d0-9764-d18c6d706a55",
   "metadata": {},
   "outputs": [
    {
     "data": {
      "text/plain": [
       "[1, 2, 'krishna', True, (4+5j), 4.5666, 5, 5, 'krishna']"
      ]
     },
     "execution_count": 71,
     "metadata": {},
     "output_type": "execute_result"
    }
   ],
   "source": [
    "l"
   ]
  },
  {
   "cell_type": "code",
   "execution_count": 72,
   "id": "f65667c8-bb76-45b4-82b9-b75afb13e6db",
   "metadata": {},
   "outputs": [],
   "source": [
    "l.append(l1)"
   ]
  },
  {
   "cell_type": "code",
   "execution_count": 73,
   "id": "6a41b956-27cd-42d1-88ed-052dc2dd66b4",
   "metadata": {},
   "outputs": [
    {
     "data": {
      "text/plain": [
       "[1, 2, 'krishna', True, (4+5j), 4.5666, 5, 5, 'krishna', [3, 4, 5]]"
      ]
     },
     "execution_count": 73,
     "metadata": {},
     "output_type": "execute_result"
    }
   ],
   "source": [
    "l"
   ]
  },
  {
   "cell_type": "code",
   "execution_count": 74,
   "id": "b383fac4-0466-4a3e-8d61-c9a565bf6cc5",
   "metadata": {},
   "outputs": [
    {
     "data": {
      "text/plain": [
       "[3, 4, 5]"
      ]
     },
     "execution_count": 74,
     "metadata": {},
     "output_type": "execute_result"
    }
   ],
   "source": [
    "l[9]"
   ]
  },
  {
   "cell_type": "code",
   "execution_count": 75,
   "id": "377504aa-90ea-4218-a3e1-5fe4bc7b8caa",
   "metadata": {},
   "outputs": [
    {
     "data": {
      "text/plain": [
       "5"
      ]
     },
     "execution_count": 75,
     "metadata": {},
     "output_type": "execute_result"
    }
   ],
   "source": [
    "l[9][2]"
   ]
  },
  {
   "cell_type": "code",
   "execution_count": 77,
   "id": "552889ff-35d2-4e6b-93e5-3d30fe87aaea",
   "metadata": {},
   "outputs": [
    {
     "data": {
      "text/plain": [
       "4"
      ]
     },
     "execution_count": 77,
     "metadata": {},
     "output_type": "execute_result"
    }
   ],
   "source": [
    "l[9][1]"
   ]
  },
  {
   "cell_type": "code",
   "execution_count": 79,
   "id": "4d5a2870-3021-4214-9292-9aa99140d61f",
   "metadata": {},
   "outputs": [
    {
     "data": {
      "text/plain": [
       "[1, 2, 'krishna', True, (4+5j), 4.5666, 5, 5, 'krishna', [3, 4, 5]]"
      ]
     },
     "execution_count": 79,
     "metadata": {},
     "output_type": "execute_result"
    }
   ],
   "source": [
    "l"
   ]
  },
  {
   "cell_type": "code",
   "execution_count": 81,
   "id": "f18bca05-7131-4769-8371-508e79172073",
   "metadata": {},
   "outputs": [
    {
     "ename": "TypeError",
     "evalue": "'int' object is not iterable",
     "output_type": "error",
     "traceback": [
      "\u001b[0;31m---------------------------------------------------------------------------\u001b[0m",
      "\u001b[0;31mTypeError\u001b[0m                                 Traceback (most recent call last)",
      "Cell \u001b[0;32mIn[81], line 1\u001b[0m\n\u001b[0;32m----> 1\u001b[0m \u001b[43ml\u001b[49m\u001b[38;5;241;43m.\u001b[39;49m\u001b[43mextend\u001b[49m\u001b[43m(\u001b[49m\u001b[38;5;241;43m4\u001b[39;49m\u001b[43m)\u001b[49m\n",
      "\u001b[0;31mTypeError\u001b[0m: 'int' object is not iterable"
     ]
    }
   ],
   "source": [
    "l.extend(4)"
   ]
  },
  {
   "cell_type": "code",
   "execution_count": 84,
   "id": "ee7e6b4e-d4b9-4c0e-86f2-c1d23d9dc69f",
   "metadata": {},
   "outputs": [],
   "source": [
    "l.extend(\"krishna\")"
   ]
  },
  {
   "cell_type": "code",
   "execution_count": 85,
   "id": "fa22c0d6-bf32-4c8f-9582-57ea2870c3b0",
   "metadata": {},
   "outputs": [
    {
     "data": {
      "text/plain": [
       "[1,\n",
       " 2,\n",
       " 'krishna',\n",
       " True,\n",
       " (4+5j),\n",
       " 4.5666,\n",
       " 5,\n",
       " 5,\n",
       " 'krishna',\n",
       " [3, 4, 5],\n",
       " 'k',\n",
       " 'r',\n",
       " 'i',\n",
       " 's',\n",
       " 'h',\n",
       " 'n',\n",
       " 'a',\n",
       " 'k',\n",
       " 'r',\n",
       " 'i',\n",
       " 's',\n",
       " 'h',\n",
       " 'n',\n",
       " 'a']"
      ]
     },
     "execution_count": 85,
     "metadata": {},
     "output_type": "execute_result"
    }
   ],
   "source": [
    "l"
   ]
  },
  {
   "cell_type": "code",
   "execution_count": 86,
   "id": "bf87dcf8-4703-411a-a5bf-2be670730591",
   "metadata": {},
   "outputs": [
    {
     "data": {
      "text/plain": [
       "[1,\n",
       " 2,\n",
       " 'krishna',\n",
       " True,\n",
       " (4+5j),\n",
       " 4.5666,\n",
       " 5,\n",
       " 5,\n",
       " 'krishna',\n",
       " [3, 4, 5],\n",
       " 'k',\n",
       " 'r',\n",
       " 'i',\n",
       " 's',\n",
       " 'h',\n",
       " 'n',\n",
       " 'a',\n",
       " 'k',\n",
       " 'r',\n",
       " 'i',\n",
       " 's',\n",
       " 'h',\n",
       " 'n',\n",
       " 'a']"
      ]
     },
     "execution_count": 86,
     "metadata": {},
     "output_type": "execute_result"
    }
   ],
   "source": [
    "l"
   ]
  },
  {
   "cell_type": "code",
   "execution_count": 89,
   "id": "46a5cd4b-3f1b-4343-9b2f-8d26e890622c",
   "metadata": {},
   "outputs": [],
   "source": [
    "l.extend([3,4,5])"
   ]
  },
  {
   "cell_type": "code",
   "execution_count": 91,
   "id": "f76ba04b-6dae-4ebc-ad42-9a7135d668f1",
   "metadata": {},
   "outputs": [
    {
     "data": {
      "text/plain": [
       "[1,\n",
       " 2,\n",
       " 'krishna',\n",
       " True,\n",
       " (4+5j),\n",
       " 4.5666,\n",
       " 5,\n",
       " 5,\n",
       " 'krishna',\n",
       " [3, 4, 5],\n",
       " 'k',\n",
       " 'r',\n",
       " 'i',\n",
       " 's',\n",
       " 'h',\n",
       " 'n',\n",
       " 'a',\n",
       " 'k',\n",
       " 'r',\n",
       " 'i',\n",
       " 's',\n",
       " 'h',\n",
       " 'n',\n",
       " 'a',\n",
       " 3,\n",
       " 4,\n",
       " 5]"
      ]
     },
     "execution_count": 91,
     "metadata": {},
     "output_type": "execute_result"
    }
   ],
   "source": [
    "l"
   ]
  },
  {
   "cell_type": "code",
   "execution_count": null,
   "id": "f138ab1f-bfbc-4215-9807-09d2ae4667ab",
   "metadata": {},
   "outputs": [],
   "source": []
  },
  {
   "cell_type": "code",
   "execution_count": 6,
   "id": "9c1cb207-42c7-4d29-8e2b-57da28699491",
   "metadata": {},
   "outputs": [],
   "source": [
    "l1=[3,4,5]"
   ]
  },
  {
   "cell_type": "code",
   "execution_count": 7,
   "id": "0ac83652-3aee-44e8-b431-615af4e8c839",
   "metadata": {},
   "outputs": [
    {
     "data": {
      "text/plain": [
       "[3, 4, 5]"
      ]
     },
     "execution_count": 7,
     "metadata": {},
     "output_type": "execute_result"
    }
   ],
   "source": [
    "l1"
   ]
  },
  {
   "cell_type": "code",
   "execution_count": 8,
   "id": "974d8b4d-c3d7-4389-bcff-5979093f4feb",
   "metadata": {},
   "outputs": [],
   "source": [
    "l1.insert(1,\"krishna\")"
   ]
  },
  {
   "cell_type": "code",
   "execution_count": 9,
   "id": "1eab0158-51f9-488f-9554-e1c4de81caea",
   "metadata": {},
   "outputs": [
    {
     "data": {
      "text/plain": [
       "[3, 'krishna', 4, 5]"
      ]
     },
     "execution_count": 9,
     "metadata": {},
     "output_type": "execute_result"
    }
   ],
   "source": [
    "l1"
   ]
  },
  {
   "cell_type": "code",
   "execution_count": 10,
   "id": "58796974-74e5-4abb-ada6-dc29528208d3",
   "metadata": {},
   "outputs": [],
   "source": [
    "l1.insert(-1,45)"
   ]
  },
  {
   "cell_type": "code",
   "execution_count": 11,
   "id": "7c82fcd3-017a-4534-94ba-810f55925f79",
   "metadata": {},
   "outputs": [
    {
     "data": {
      "text/plain": [
       "[3, 'krishna', 4, 45, 5]"
      ]
     },
     "execution_count": 11,
     "metadata": {},
     "output_type": "execute_result"
    }
   ],
   "source": [
    "l1"
   ]
  },
  {
   "cell_type": "code",
   "execution_count": 12,
   "id": "e95070c5-c171-40d0-a751-767f2c498b18",
   "metadata": {},
   "outputs": [
    {
     "data": {
      "text/plain": [
       "5"
      ]
     },
     "execution_count": 12,
     "metadata": {},
     "output_type": "execute_result"
    }
   ],
   "source": [
    "l1.pop()"
   ]
  },
  {
   "cell_type": "code",
   "execution_count": 13,
   "id": "96aa4355-4901-442b-914d-9fc0dd438313",
   "metadata": {},
   "outputs": [
    {
     "data": {
      "text/plain": [
       "[3, 'krishna', 4, 45]"
      ]
     },
     "execution_count": 13,
     "metadata": {},
     "output_type": "execute_result"
    }
   ],
   "source": [
    "l1"
   ]
  },
  {
   "cell_type": "code",
   "execution_count": 14,
   "id": "58e87c5c-5783-4231-9906-281ff28b1c1b",
   "metadata": {},
   "outputs": [
    {
     "data": {
      "text/plain": [
       "4"
      ]
     },
     "execution_count": 14,
     "metadata": {},
     "output_type": "execute_result"
    }
   ],
   "source": [
    "l1.pop(2)"
   ]
  },
  {
   "cell_type": "code",
   "execution_count": 15,
   "id": "a9dc69aa-c956-475e-a246-77f378198027",
   "metadata": {},
   "outputs": [
    {
     "data": {
      "text/plain": [
       "[3, 'krishna', 45]"
      ]
     },
     "execution_count": 15,
     "metadata": {},
     "output_type": "execute_result"
    }
   ],
   "source": [
    "l1"
   ]
  },
  {
   "cell_type": "code",
   "execution_count": 16,
   "id": "01aeb0fc-ed0e-483d-b29d-697db362caaa",
   "metadata": {},
   "outputs": [
    {
     "data": {
      "text/plain": [
       "3"
      ]
     },
     "execution_count": 16,
     "metadata": {},
     "output_type": "execute_result"
    }
   ],
   "source": [
    "l1.pop(0)"
   ]
  },
  {
   "cell_type": "code",
   "execution_count": 17,
   "id": "7e18413d-17a1-4070-bfea-f0269f722eda",
   "metadata": {},
   "outputs": [
    {
     "data": {
      "text/plain": [
       "['krishna', 45]"
      ]
     },
     "execution_count": 17,
     "metadata": {},
     "output_type": "execute_result"
    }
   ],
   "source": [
    "l1"
   ]
  },
  {
   "cell_type": "code",
   "execution_count": 18,
   "id": "b3c00f91-574e-426a-97a2-b66409449178",
   "metadata": {},
   "outputs": [],
   "source": [
    "l1.remove(45)"
   ]
  },
  {
   "cell_type": "code",
   "execution_count": 19,
   "id": "08d9a99b-2ebb-4638-a966-0fa4efab0498",
   "metadata": {},
   "outputs": [
    {
     "data": {
      "text/plain": [
       "['krishna']"
      ]
     },
     "execution_count": 19,
     "metadata": {},
     "output_type": "execute_result"
    }
   ],
   "source": [
    "l1"
   ]
  },
  {
   "cell_type": "code",
   "execution_count": 20,
   "id": "d601efa8-faaa-4209-b87d-54949064eff0",
   "metadata": {},
   "outputs": [],
   "source": [
    "l=[3,4,5]"
   ]
  },
  {
   "cell_type": "code",
   "execution_count": 23,
   "id": "bcd516bd-6ff7-4a35-8852-6fa316073b17",
   "metadata": {},
   "outputs": [
    {
     "data": {
      "text/plain": [
       "['krishna', 3, 4, 5]"
      ]
     },
     "execution_count": 23,
     "metadata": {},
     "output_type": "execute_result"
    }
   ],
   "source": [
    "l1+l"
   ]
  },
  {
   "cell_type": "code",
   "execution_count": 24,
   "id": "a6f0d4a1-6802-4d8d-9107-9510bfe569ff",
   "metadata": {},
   "outputs": [],
   "source": [
    "l1.append(l)"
   ]
  },
  {
   "cell_type": "code",
   "execution_count": 25,
   "id": "e97d9f85-5377-4ba4-a34c-475e8cda00de",
   "metadata": {},
   "outputs": [
    {
     "data": {
      "text/plain": [
       "['krishna', [3, 4, 5]]"
      ]
     },
     "execution_count": 25,
     "metadata": {},
     "output_type": "execute_result"
    }
   ],
   "source": [
    "l1"
   ]
  },
  {
   "cell_type": "code",
   "execution_count": 36,
   "id": "b98502b1-ff25-4215-b34a-d3f94c01b499",
   "metadata": {},
   "outputs": [],
   "source": [
    "l1[1].remove(4)"
   ]
  },
  {
   "cell_type": "code",
   "execution_count": 37,
   "id": "85d74128-3ea0-459b-82ee-71feffa7bb55",
   "metadata": {},
   "outputs": [
    {
     "data": {
      "text/plain": [
       "['krishna', [5]]"
      ]
     },
     "execution_count": 37,
     "metadata": {},
     "output_type": "execute_result"
    }
   ],
   "source": [
    "l1"
   ]
  },
  {
   "cell_type": "code",
   "execution_count": 38,
   "id": "88784810-1990-47c6-a56f-49cb969953e1",
   "metadata": {},
   "outputs": [
    {
     "data": {
      "text/plain": [
       "[5]"
      ]
     },
     "execution_count": 38,
     "metadata": {},
     "output_type": "execute_result"
    }
   ],
   "source": [
    "l"
   ]
  },
  {
   "cell_type": "code",
   "execution_count": 39,
   "id": "1bcae03a-be64-41ac-9c43-3e1c9a3f6d42",
   "metadata": {},
   "outputs": [
    {
     "data": {
      "text/plain": [
       "['krishna', [5]]"
      ]
     },
     "execution_count": 39,
     "metadata": {},
     "output_type": "execute_result"
    }
   ],
   "source": [
    "l1"
   ]
  },
  {
   "cell_type": "code",
   "execution_count": 40,
   "id": "775379df-6376-4c01-8ebd-d88deec3c70e",
   "metadata": {},
   "outputs": [],
   "source": [
    "l3=[3,4,5,\"kris\"]"
   ]
  },
  {
   "cell_type": "code",
   "execution_count": 41,
   "id": "aee88f5e-a7dd-4a9c-9821-d58233637f88",
   "metadata": {},
   "outputs": [],
   "source": [
    "l1.append(l3)"
   ]
  },
  {
   "cell_type": "code",
   "execution_count": 42,
   "id": "2d5ae327-8e09-480e-8b61-819178529087",
   "metadata": {},
   "outputs": [
    {
     "data": {
      "text/plain": [
       "['krishna', [5], [3, 4, 5, 'kris']]"
      ]
     },
     "execution_count": 42,
     "metadata": {},
     "output_type": "execute_result"
    }
   ],
   "source": [
    "l1"
   ]
  },
  {
   "cell_type": "code",
   "execution_count": 43,
   "id": "2c126d25-057b-492b-af08-0bda0d51d85e",
   "metadata": {},
   "outputs": [],
   "source": [
    "l1.append(\"krishna\")"
   ]
  },
  {
   "cell_type": "code",
   "execution_count": 44,
   "id": "3d8261b5-578e-4816-a5a8-353e456a8ac5",
   "metadata": {},
   "outputs": [
    {
     "data": {
      "text/plain": [
       "['krishna', [5], [3, 4, 5, 'kris'], 'krishna']"
      ]
     },
     "execution_count": 44,
     "metadata": {},
     "output_type": "execute_result"
    }
   ],
   "source": [
    "l1"
   ]
  },
  {
   "cell_type": "code",
   "execution_count": 46,
   "id": "ebbda2a3-4ff2-4dc4-8742-b21e77592364",
   "metadata": {},
   "outputs": [],
   "source": [
    "l1.remove(\"krishna\")"
   ]
  },
  {
   "cell_type": "code",
   "execution_count": 47,
   "id": "6319611a-79bb-4a99-aee4-209ef0414901",
   "metadata": {},
   "outputs": [
    {
     "data": {
      "text/plain": [
       "[[5], [3, 4, 5, 'kris'], 'krishna']"
      ]
     },
     "execution_count": 47,
     "metadata": {},
     "output_type": "execute_result"
    }
   ],
   "source": [
    "l1"
   ]
  },
  {
   "cell_type": "code",
   "execution_count": 48,
   "id": "dcd471bb-e906-4a1f-8307-95412904a11c",
   "metadata": {},
   "outputs": [
    {
     "data": {
      "text/plain": [
       "['krishna', [3, 4, 5, 'kris'], [5]]"
      ]
     },
     "execution_count": 48,
     "metadata": {},
     "output_type": "execute_result"
    }
   ],
   "source": [
    "l1[::-1]"
   ]
  },
  {
   "cell_type": "code",
   "execution_count": 50,
   "id": "afd29ee1-f169-40e8-86e0-f247a1097e29",
   "metadata": {},
   "outputs": [],
   "source": [
    "l1.reverse()"
   ]
  },
  {
   "cell_type": "code",
   "execution_count": 51,
   "id": "2d9339d6-630b-46ea-9a7b-c84f0034ec50",
   "metadata": {},
   "outputs": [
    {
     "data": {
      "text/plain": [
       "['krishna', [3, 4, 5, 'kris'], [5]]"
      ]
     },
     "execution_count": 51,
     "metadata": {},
     "output_type": "execute_result"
    }
   ],
   "source": [
    "l1"
   ]
  },
  {
   "cell_type": "code",
   "execution_count": 53,
   "id": "de59456b-0b20-450b-8a1a-639259b54262",
   "metadata": {},
   "outputs": [],
   "source": [
    "l3=[4,5,89,7,78,156,74,12,56,85]"
   ]
  },
  {
   "cell_type": "code",
   "execution_count": 54,
   "id": "0266b634-f6aa-4f4b-8b02-633b8f38660f",
   "metadata": {},
   "outputs": [],
   "source": [
    "l3.sort()"
   ]
  },
  {
   "cell_type": "code",
   "execution_count": 55,
   "id": "b28744df-bc8c-4bc2-ad03-8e79d4a834fa",
   "metadata": {},
   "outputs": [
    {
     "data": {
      "text/plain": [
       "[4, 5, 7, 12, 56, 74, 78, 85, 89, 156]"
      ]
     },
     "execution_count": 55,
     "metadata": {},
     "output_type": "execute_result"
    }
   ],
   "source": [
    "l3"
   ]
  },
  {
   "cell_type": "code",
   "execution_count": 59,
   "id": "ab944433-794a-4a2a-b65c-828301ff257c",
   "metadata": {},
   "outputs": [],
   "source": [
    "l3.sort(reverse=True)"
   ]
  },
  {
   "cell_type": "code",
   "execution_count": 60,
   "id": "093e1bf2-0005-4ab5-834e-6e5a82b03195",
   "metadata": {},
   "outputs": [
    {
     "data": {
      "text/plain": [
       "[156, 89, 85, 78, 74, 56, 12, 7, 5, 4]"
      ]
     },
     "execution_count": 60,
     "metadata": {},
     "output_type": "execute_result"
    }
   ],
   "source": [
    "l3"
   ]
  },
  {
   "cell_type": "code",
   "execution_count": 61,
   "id": "11d5a19d-7773-44b3-ada4-8c72f29943f3",
   "metadata": {},
   "outputs": [
    {
     "data": {
      "text/plain": [
       "0"
      ]
     },
     "execution_count": 61,
     "metadata": {},
     "output_type": "execute_result"
    }
   ],
   "source": [
    "l3.index(156)"
   ]
  },
  {
   "cell_type": "code",
   "execution_count": 63,
   "id": "947456ac-8546-453b-ab72-e50ac62ec403",
   "metadata": {},
   "outputs": [
    {
     "data": {
      "text/plain": [
       "1"
      ]
     },
     "execution_count": 63,
     "metadata": {},
     "output_type": "execute_result"
    }
   ],
   "source": [
    "l3.count(7)"
   ]
  },
  {
   "cell_type": "code",
   "execution_count": 64,
   "id": "bba11a2c-ffa3-4806-9d7a-6b204ef05842",
   "metadata": {},
   "outputs": [],
   "source": [
    "s=\"krish\""
   ]
  },
  {
   "cell_type": "code",
   "execution_count": 65,
   "id": "21fd8c97-2508-4c10-95e9-9b219edf0faf",
   "metadata": {},
   "outputs": [],
   "source": [
    "l4=[3,4,5,6]"
   ]
  },
  {
   "cell_type": "code",
   "execution_count": 66,
   "id": "3adce230-b577-4bbf-95fe-79bcfde0ddf5",
   "metadata": {},
   "outputs": [
    {
     "data": {
      "text/plain": [
       "'krish'"
      ]
     },
     "execution_count": 66,
     "metadata": {},
     "output_type": "execute_result"
    }
   ],
   "source": [
    "s"
   ]
  },
  {
   "cell_type": "code",
   "execution_count": 67,
   "id": "4a5ce11f-f14c-4946-8f7f-fbd87dbd9a9b",
   "metadata": {},
   "outputs": [
    {
     "data": {
      "text/plain": [
       "'k'"
      ]
     },
     "execution_count": 67,
     "metadata": {},
     "output_type": "execute_result"
    }
   ],
   "source": [
    "s[0]"
   ]
  },
  {
   "cell_type": "code",
   "execution_count": 68,
   "id": "3b793de6-0ca5-4e70-a020-042914323868",
   "metadata": {},
   "outputs": [
    {
     "data": {
      "text/plain": [
       "3"
      ]
     },
     "execution_count": 68,
     "metadata": {},
     "output_type": "execute_result"
    }
   ],
   "source": [
    "l4[0]"
   ]
  },
  {
   "cell_type": "code",
   "execution_count": 70,
   "id": "e36b88d4-fdef-4e42-960f-17befc477a39",
   "metadata": {},
   "outputs": [],
   "source": [
    "l4[0]='30'"
   ]
  },
  {
   "cell_type": "code",
   "execution_count": 71,
   "id": "79243353-0844-4c5e-8b85-db7744138aa8",
   "metadata": {},
   "outputs": [
    {
     "data": {
      "text/plain": [
       "['30', 4, 5, 6]"
      ]
     },
     "execution_count": 71,
     "metadata": {},
     "output_type": "execute_result"
    }
   ],
   "source": [
    "l4"
   ]
  },
  {
   "cell_type": "code",
   "execution_count": 72,
   "id": "e4c06e81-2b0a-4389-8571-566c887a5a54",
   "metadata": {},
   "outputs": [
    {
     "data": {
      "text/plain": [
       "'krish'"
      ]
     },
     "execution_count": 72,
     "metadata": {},
     "output_type": "execute_result"
    }
   ],
   "source": [
    "s"
   ]
  },
  {
   "cell_type": "code",
   "execution_count": 73,
   "id": "2c9936d3-36f4-42b8-aaf8-c23d2b5c836d",
   "metadata": {},
   "outputs": [
    {
     "data": {
      "text/plain": [
       "'arish'"
      ]
     },
     "execution_count": 73,
     "metadata": {},
     "output_type": "execute_result"
    }
   ],
   "source": [
    "s.replace('k', 'a')"
   ]
  },
  {
   "cell_type": "code",
   "execution_count": 86,
   "id": "0a36f2f7-2215-4ada-9ea6-72fc5a6d5af9",
   "metadata": {},
   "outputs": [],
   "source": [
    "t=(1,2,3,4,\"krishn\",False, 4+5j,[4,5,6,7],2.45)"
   ]
  },
  {
   "cell_type": "code",
   "execution_count": 87,
   "id": "f2eba252-c6b2-48df-8054-82e20b1ceef1",
   "metadata": {},
   "outputs": [
    {
     "data": {
      "text/plain": [
       "tuple"
      ]
     },
     "execution_count": 87,
     "metadata": {},
     "output_type": "execute_result"
    }
   ],
   "source": [
    "type(t)"
   ]
  },
  {
   "cell_type": "code",
   "execution_count": 88,
   "id": "a7c987b5-82fd-4292-95d4-1906f5f7b509",
   "metadata": {},
   "outputs": [
    {
     "data": {
      "text/plain": [
       "(1, 2, 3, 4, 'krishn', False, (4+5j), [4, 5, 6, 7], 2.45)"
      ]
     },
     "execution_count": 88,
     "metadata": {},
     "output_type": "execute_result"
    }
   ],
   "source": [
    "t"
   ]
  },
  {
   "cell_type": "code",
   "execution_count": 89,
   "id": "e164f7ea-118a-483e-9f46-cc501c223432",
   "metadata": {},
   "outputs": [
    {
     "data": {
      "text/plain": [
       "9"
      ]
     },
     "execution_count": 89,
     "metadata": {},
     "output_type": "execute_result"
    }
   ],
   "source": [
    "len(t)"
   ]
  },
  {
   "cell_type": "code",
   "execution_count": 90,
   "id": "6f06eee2-440f-4373-a3ab-657a72da5c04",
   "metadata": {},
   "outputs": [
    {
     "data": {
      "text/plain": [
       "1"
      ]
     },
     "execution_count": 90,
     "metadata": {},
     "output_type": "execute_result"
    }
   ],
   "source": [
    "t[0]"
   ]
  },
  {
   "cell_type": "code",
   "execution_count": 91,
   "id": "64f6744b-9ab8-4d4e-acfd-f9da575cdeb4",
   "metadata": {},
   "outputs": [
    {
     "data": {
      "text/plain": [
       "(2.45, [4, 5, 6, 7], (4+5j), False, 'krishn', 4, 3, 2, 1)"
      ]
     },
     "execution_count": 91,
     "metadata": {},
     "output_type": "execute_result"
    }
   ],
   "source": [
    "t[::-1]"
   ]
  },
  {
   "cell_type": "code",
   "execution_count": 92,
   "id": "4a2f9d8c-f7ab-49c4-8e42-330bacf1f09e",
   "metadata": {},
   "outputs": [
    {
     "data": {
      "text/plain": [
       "2.45"
      ]
     },
     "execution_count": 92,
     "metadata": {},
     "output_type": "execute_result"
    }
   ],
   "source": [
    "t[-1]"
   ]
  },
  {
   "cell_type": "code",
   "execution_count": 93,
   "id": "085809b0-615c-4d88-b323-f81eeec72ff6",
   "metadata": {},
   "outputs": [
    {
     "data": {
      "text/plain": [
       "(1, 2, 3, 4, 'krishn', False, (4+5j), [4, 5, 6, 7], 2.45)"
      ]
     },
     "execution_count": 93,
     "metadata": {},
     "output_type": "execute_result"
    }
   ],
   "source": [
    "t"
   ]
  },
  {
   "cell_type": "code",
   "execution_count": 94,
   "id": "cad28c29-a826-4fa9-86d8-c19668d38388",
   "metadata": {},
   "outputs": [
    {
     "data": {
      "text/plain": [
       "4"
      ]
     },
     "execution_count": 94,
     "metadata": {},
     "output_type": "execute_result"
    }
   ],
   "source": [
    "t.index(\"krishn\")"
   ]
  },
  {
   "cell_type": "code",
   "execution_count": 95,
   "id": "9720ef1c-adf6-47e3-9938-bd9d7d3f0d5f",
   "metadata": {},
   "outputs": [],
   "source": [
    "s1={}"
   ]
  },
  {
   "cell_type": "code",
   "execution_count": 96,
   "id": "e769f654-2191-4a4c-b483-c5a5a1bdf48c",
   "metadata": {},
   "outputs": [
    {
     "data": {
      "text/plain": [
       "{}"
      ]
     },
     "execution_count": 96,
     "metadata": {},
     "output_type": "execute_result"
    }
   ],
   "source": [
    "s1"
   ]
  },
  {
   "cell_type": "code",
   "execution_count": 97,
   "id": "0e8582e2-5338-4355-ad1d-54f909e3792c",
   "metadata": {},
   "outputs": [
    {
     "data": {
      "text/plain": [
       "dict"
      ]
     },
     "execution_count": 97,
     "metadata": {},
     "output_type": "execute_result"
    }
   ],
   "source": [
    "type(s1)"
   ]
  },
  {
   "cell_type": "code",
   "execution_count": 98,
   "id": "e9b75637-0585-4121-bc8d-29a491a85cc5",
   "metadata": {},
   "outputs": [],
   "source": [
    "s2={2,3,4,5,6,7}"
   ]
  },
  {
   "cell_type": "code",
   "execution_count": 99,
   "id": "4fa6b284-4a51-4bc3-a4c8-158a9a69d002",
   "metadata": {},
   "outputs": [
    {
     "data": {
      "text/plain": [
       "set"
      ]
     },
     "execution_count": 99,
     "metadata": {},
     "output_type": "execute_result"
    }
   ],
   "source": [
    "type(s2)"
   ]
  },
  {
   "cell_type": "code",
   "execution_count": 100,
   "id": "d69ab06d-669f-4994-81b7-db590532d191",
   "metadata": {},
   "outputs": [],
   "source": [
    "s3={1,2,3,4,\"krishna\",4+5j,False,(3,4,5,6)}"
   ]
  },
  {
   "cell_type": "code",
   "execution_count": 101,
   "id": "11bcc0cf-f6aa-4c46-86c1-343c6663bb4e",
   "metadata": {},
   "outputs": [
    {
     "data": {
      "text/plain": [
       "set"
      ]
     },
     "execution_count": 101,
     "metadata": {},
     "output_type": "execute_result"
    }
   ],
   "source": [
    "type(s3)"
   ]
  },
  {
   "cell_type": "code",
   "execution_count": 102,
   "id": "8fd271e9-5679-4273-b7b7-4f3bc9a850a6",
   "metadata": {},
   "outputs": [
    {
     "data": {
      "text/plain": [
       "{(3, 4, 5, 6), (4+5j), 1, 2, 3, 4, False, 'krishna'}"
      ]
     },
     "execution_count": 102,
     "metadata": {},
     "output_type": "execute_result"
    }
   ],
   "source": [
    "s3"
   ]
  },
  {
   "cell_type": "code",
   "execution_count": 108,
   "id": "32ab58af-d537-459f-b766-863b658f7e8e",
   "metadata": {},
   "outputs": [],
   "source": [
    "s4={2,3,5,7,9,4,5,1,5,6,7,9,5,5,6,4,56,7,8,4,1,5,3,56,\"krish\",\"krish\"}"
   ]
  },
  {
   "cell_type": "code",
   "execution_count": 109,
   "id": "541c1805-0504-43ff-817c-8a24db567b83",
   "metadata": {},
   "outputs": [
    {
     "data": {
      "text/plain": [
       "{1, 2, 3, 4, 5, 56, 6, 7, 8, 9, 'krish'}"
      ]
     },
     "execution_count": 109,
     "metadata": {},
     "output_type": "execute_result"
    }
   ],
   "source": [
    "s4"
   ]
  },
  {
   "cell_type": "code",
   "execution_count": 111,
   "id": "ba2ddf7e-424a-421a-8814-f4644737469f",
   "metadata": {},
   "outputs": [],
   "source": [
    "l6=[1,2,5,4,7,8,9,5,4,1,53,5,4,8,6,5,42,6,7,8,6,5,4,]"
   ]
  },
  {
   "cell_type": "code",
   "execution_count": 112,
   "id": "66a5331f-b05b-4ade-bb5d-641ef3a0f467",
   "metadata": {},
   "outputs": [
    {
     "data": {
      "text/plain": [
       "[1, 2, 5, 4, 7, 8, 9, 5, 4, 1, 53, 5, 4, 8, 6, 5, 42, 6, 7, 8, 6, 5, 4]"
      ]
     },
     "execution_count": 112,
     "metadata": {},
     "output_type": "execute_result"
    }
   ],
   "source": [
    "l6"
   ]
  },
  {
   "cell_type": "code",
   "execution_count": 114,
   "id": "94288883-2a74-4331-981d-4a15e75d8dad",
   "metadata": {},
   "outputs": [
    {
     "data": {
      "text/plain": [
       "{1, 2, 4, 5, 6, 7, 8, 9, 42, 53}"
      ]
     },
     "execution_count": 114,
     "metadata": {},
     "output_type": "execute_result"
    }
   ],
   "source": [
    "set(l6)"
   ]
  },
  {
   "cell_type": "code",
   "execution_count": 115,
   "id": "d3d6ba0a-db9a-4e84-ac9a-af3879671f3c",
   "metadata": {},
   "outputs": [
    {
     "data": {
      "text/plain": [
       "[1, 2, 5, 4, 7, 8, 9, 5, 4, 1, 53, 5, 4, 8, 6, 5, 42, 6, 7, 8, 6, 5, 4]"
      ]
     },
     "execution_count": 115,
     "metadata": {},
     "output_type": "execute_result"
    }
   ],
   "source": [
    "l6"
   ]
  },
  {
   "cell_type": "code",
   "execution_count": 116,
   "id": "262415d1-9ffb-41a3-8efd-126e0796f6ff",
   "metadata": {},
   "outputs": [],
   "source": [
    "l6=list(set(l6))"
   ]
  },
  {
   "cell_type": "code",
   "execution_count": 117,
   "id": "ef45192b-12b3-4df3-941a-e0a01570dd25",
   "metadata": {},
   "outputs": [
    {
     "data": {
      "text/plain": [
       "[1, 2, 4, 5, 6, 7, 8, 9, 42, 53]"
      ]
     },
     "execution_count": 117,
     "metadata": {},
     "output_type": "execute_result"
    }
   ],
   "source": [
    "l6"
   ]
  },
  {
   "cell_type": "code",
   "execution_count": 118,
   "id": "48140308-cea1-45e1-befd-f9e85dbb18c4",
   "metadata": {},
   "outputs": [],
   "source": [
    "s6={3,4,5,6,7,8,6,5,4,3,2,3,5,6}"
   ]
  },
  {
   "cell_type": "code",
   "execution_count": 119,
   "id": "37f5b4d1-8edd-462f-bf4c-f07e8cc47813",
   "metadata": {},
   "outputs": [
    {
     "data": {
      "text/plain": [
       "{2, 3, 4, 5, 6, 7, 8}"
      ]
     },
     "execution_count": 119,
     "metadata": {},
     "output_type": "execute_result"
    }
   ],
   "source": [
    "s6"
   ]
  },
  {
   "cell_type": "code",
   "execution_count": 120,
   "id": "cf5df5de-8d8d-4d3b-8f60-fd44d05215c4",
   "metadata": {},
   "outputs": [
    {
     "ename": "TypeError",
     "evalue": "'set' object is not subscriptable",
     "output_type": "error",
     "traceback": [
      "\u001b[0;31m---------------------------------------------------------------------------\u001b[0m",
      "\u001b[0;31mTypeError\u001b[0m                                 Traceback (most recent call last)",
      "Cell \u001b[0;32mIn[120], line 1\u001b[0m\n\u001b[0;32m----> 1\u001b[0m \u001b[43ms6\u001b[49m\u001b[43m[\u001b[49m\u001b[38;5;241;43m0\u001b[39;49m\u001b[43m]\u001b[49m\n",
      "\u001b[0;31mTypeError\u001b[0m: 'set' object is not subscriptable"
     ]
    }
   ],
   "source": [
    "s6[0]"
   ]
  },
  {
   "cell_type": "code",
   "execution_count": 121,
   "id": "9c596304-6f09-4b04-ad31-04d14efe7ce5",
   "metadata": {},
   "outputs": [
    {
     "data": {
      "text/plain": [
       "{2, 3, 4, 5, 6, 7, 8}"
      ]
     },
     "execution_count": 121,
     "metadata": {},
     "output_type": "execute_result"
    }
   ],
   "source": [
    "s6"
   ]
  },
  {
   "cell_type": "code",
   "execution_count": 122,
   "id": "5afd34aa-ea98-4184-9f72-57bad2bd08d9",
   "metadata": {},
   "outputs": [],
   "source": [
    "s6.add(9)"
   ]
  },
  {
   "cell_type": "code",
   "execution_count": 123,
   "id": "ff79f6b9-c974-476a-bb11-70abe6a042b4",
   "metadata": {},
   "outputs": [
    {
     "data": {
      "text/plain": [
       "{2, 3, 4, 5, 6, 7, 8, 9}"
      ]
     },
     "execution_count": 123,
     "metadata": {},
     "output_type": "execute_result"
    }
   ],
   "source": [
    "s6"
   ]
  },
  {
   "cell_type": "code",
   "execution_count": 124,
   "id": "661d46e0-0d78-4930-9d8f-af6562624389",
   "metadata": {},
   "outputs": [],
   "source": [
    "s6.remove(3)"
   ]
  },
  {
   "cell_type": "code",
   "execution_count": 125,
   "id": "3f8d1c1f-8bef-4e07-af63-4fd40997480e",
   "metadata": {},
   "outputs": [
    {
     "data": {
      "text/plain": [
       "{2, 4, 5, 6, 7, 8, 9}"
      ]
     },
     "execution_count": 125,
     "metadata": {},
     "output_type": "execute_result"
    }
   ],
   "source": [
    "s6"
   ]
  },
  {
   "cell_type": "code",
   "execution_count": 126,
   "id": "2648013d-8053-4e6f-a66b-1950c9281745",
   "metadata": {},
   "outputs": [
    {
     "data": {
      "text/plain": [
       "{2, 4, 5, 6, 7, 8, 9}"
      ]
     },
     "execution_count": 126,
     "metadata": {},
     "output_type": "execute_result"
    }
   ],
   "source": [
    "s6"
   ]
  },
  {
   "cell_type": "code",
   "execution_count": null,
   "id": "7fd494b1-20e8-4de4-8aab-572e31b0fc29",
   "metadata": {},
   "outputs": [],
   "source": []
  }
 ],
 "metadata": {
  "kernelspec": {
   "display_name": "Python 3 (ipykernel)",
   "language": "python",
   "name": "python3"
  },
  "language_info": {
   "codemirror_mode": {
    "name": "ipython",
    "version": 3
   },
   "file_extension": ".py",
   "mimetype": "text/x-python",
   "name": "python",
   "nbconvert_exporter": "python",
   "pygments_lexer": "ipython3",
   "version": "3.10.8"
  }
 },
 "nbformat": 4,
 "nbformat_minor": 5
}
